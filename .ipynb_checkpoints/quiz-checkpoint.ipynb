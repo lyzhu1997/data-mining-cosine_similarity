{
 "cells": [
  {
   "cell_type": "code",
   "execution_count": null,
   "metadata": {},
   "outputs": [],
   "source": []
  },
  {
   "cell_type": "code",
   "execution_count": null,
   "metadata": {},
   "outputs": [],
   "source": []
  },
  {
   "cell_type": "code",
   "execution_count": null,
   "metadata": {},
   "outputs": [],
   "source": []
  },
  {
   "cell_type": "code",
   "execution_count": 3,
   "metadata": {},
   "outputs": [],
   "source": [
    "doc1 = open(\"File1.txt\",\"r\")\n",
    "d1 = doc1.read()\n",
    "##doc2 = open(\"File2.txt\",\"r\")\n",
    "##doc3 = open(\"File3.txt\",\"r\")\n",
    "##doc4 = open(\"File4.txt\",\"r\")\n",
    "##doc5 = open(\"File5.txt\",\"r\")"
   ]
  },
  {
   "cell_type": "code",
   "execution_count": 4,
   "metadata": {},
   "outputs": [],
   "source": [
    "d1 = d1.replace(\",\",\"\") \n",
    "d1 = d1.replace(\"\\n\",\"\")\n",
    "d1 = d1.replace(\".\",\"\")\n",
    "d1 = d1.replace(\"â€™s\",\"\")"
   ]
  },
  {
   "cell_type": "code",
   "execution_count": 6,
   "metadata": {},
   "outputs": [
    {
     "data": {
      "text/plain": [
       "'Risk is commonly defined as threat times vulnerability times consequence There are many threats actors out there including nation states criminal syndicates and enterprises hacktivists and insiders These threats actors have a variety of motivations including financial gain corporate or government espionage and military advantage These threat actors are able to launch cyber attacks through the exploitation of vulnerabilities There are a number of vulnerabilities in both hardware and software that can be exploited from outside or inside The causes could be unpatched software unsecured access points and misconfigured systemsThe consequence is the harm caused to an exploited organization by a cyberattack the organization will have to face a lot of things including a loss of sensitive data It will affect the company customer base reputation financial standing and may lose a great deal of customers The consequence can be very costly to the organization Therefore risk in cyber is called a Cyber Risk or Cybersecurity Risk In other words Cyber risk is commonly defined as exposure to harm or loss resulting from breaches of or attacks on information systems What are the Key Cyber Risks and Threats? From small companies to large sized companies they have their own business operations and objectives as well as compliance with regulations and laws An organization will typically design and implement cybersecurity controls across the entity to protect the integrity confidentiality and availability of information assets To understand the cyber risk profile it is very important for the organization to know what data could be more exposed to vulnerabilities like personally identifiable information (PII) like names social security numbers and biometric recordsCybersecurity Risk Management  With the understanding of the definition of cyber risk or cybersecurity risk with the given helpful formula it is also important to understand how to properly manage the cyber risk in the organization  Senior Management involvement  Cybersecurity risk management is generally supported by a leader called a Chief Information Security Officer (CISO) who is directly responsible for establishing and maintaining the enterprise vision strategy and program to ensure information assets and customer data is adequately protected When a company does not have enough funds to hire a CISO board members will experience cybersecurity risk that is extremely valuable For small companies who do not have enough funds but they have some IT team members they are highly recommended to take support from the cybersecurity consultancy  Access users privilege There are several steps that could be taken to monitor and observe their behavior when there are more third-party networks or partners are given access to the privileged information By identifying the data that each employee has access to and determine if it is necessary to make it accessible to the employees If it is unnecessary put in place measures to limit access to sensitive data Finally it important to closely monitor those who have access to highly sensitive data and information It also includes the company vendors to ensure that the information is only used for necessary purposes Identify your material data Material data can vary by industry or line of business to include sensitive customer constituent or patient information; intellectual property data; consumer data; or even the data that ensures the reliable operations of your IT systems or manufacturing capabilities In addition encryption of sensitive data and information will protect the data from being breached and always restores all data in backup storage in case of malware virus  Implement the right technology There are many cybersecurity tools out there in the market to make the best use to protect information and data of the organization The Cybersecurity tools like BitSight allow the organization to monitor the organization and your vendorsâ€™ Security Ratings which gives you a good indication of overall security posture It enables you to monitor both the performance of your own security program and also third parties in real time It is also essential to make sure all the tools and software are timely updated with new updated patches   '"
      ]
     },
     "execution_count": 6,
     "metadata": {},
     "output_type": "execute_result"
    }
   ],
   "source": [
    "d1"
   ]
  },
  {
   "cell_type": "code",
   "execution_count": null,
   "metadata": {},
   "outputs": [],
   "source": []
  }
 ],
 "metadata": {
  "kernelspec": {
   "display_name": "Python 3",
   "language": "python",
   "name": "python3"
  },
  "language_info": {
   "codemirror_mode": {
    "name": "ipython",
    "version": 3
   },
   "file_extension": ".py",
   "mimetype": "text/x-python",
   "name": "python",
   "nbconvert_exporter": "python",
   "pygments_lexer": "ipython3",
   "version": "3.8.3"
  }
 },
 "nbformat": 4,
 "nbformat_minor": 4
}
